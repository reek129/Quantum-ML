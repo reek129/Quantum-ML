{
  "nbformat": 4,
  "nbformat_minor": 0,
  "metadata": {
    "accelerator": "TPU",
    "colab": {
      "name": "SimpleQCNN.ipynb",
      "provenance": [],
      "collapsed_sections": [],
      "authorship_tag": "ABX9TyPg2BbmKMFTClxET2dGsMqw",
      "include_colab_link": true
    },
    "kernelspec": {
      "display_name": "Python 3",
      "name": "python3"
    }
  },
  "cells": [
    {
      "cell_type": "markdown",
      "metadata": {
        "id": "view-in-github",
        "colab_type": "text"
      },
      "source": [
        "<a href=\"https://colab.research.google.com/github/reek129/Quantum-ML/blob/main/SimpleQCNN.ipynb\" target=\"_parent\"><img src=\"https://colab.research.google.com/assets/colab-badge.svg\" alt=\"Open In Colab\"/></a>"
      ]
    },
    {
      "cell_type": "code",
      "metadata": {
        "colab": {
          "base_uri": "https://localhost:8080/",
          "height": 1000
        },
        "id": "kj05Q1GAM7VA",
        "outputId": "f5716563-b2c0-488b-912e-8c09a67ebd69"
      },
      "source": [
        "  !pip install --upgrade pip\r\n",
        "  !pip install tensorflow==2.3.1\r\n",
        "  !pip install -U tensorflow-quantum"
      ],
      "execution_count": null,
      "outputs": [
        {
          "output_type": "stream",
          "text": [
            "Collecting pip\n",
            "\u001b[?25l  Downloading https://files.pythonhosted.org/packages/54/eb/4a3642e971f404d69d4f6fa3885559d67562801b99d7592487f1ecc4e017/pip-20.3.3-py2.py3-none-any.whl (1.5MB)\n",
            "\u001b[K     |████████████████████████████████| 1.5MB 5.4MB/s \n",
            "\u001b[?25hInstalling collected packages: pip\n",
            "  Found existing installation: pip 19.3.1\n",
            "    Uninstalling pip-19.3.1:\n",
            "      Successfully uninstalled pip-19.3.1\n",
            "Successfully installed pip-20.3.3\n",
            "Collecting tensorflow==2.3.1\n",
            "  Downloading tensorflow-2.3.1-cp36-cp36m-manylinux2010_x86_64.whl (320.4 MB)\n",
            "\u001b[K     |████████████████████████████████| 320.4 MB 34 kB/s \n",
            "\u001b[?25hRequirement already satisfied: keras-preprocessing<1.2,>=1.1.1 in /usr/local/lib/python3.6/dist-packages (from tensorflow==2.3.1) (1.1.2)\n",
            "Requirement already satisfied: gast==0.3.3 in /usr/local/lib/python3.6/dist-packages (from tensorflow==2.3.1) (0.3.3)\n",
            "Requirement already satisfied: protobuf>=3.9.2 in /usr/local/lib/python3.6/dist-packages (from tensorflow==2.3.1) (3.12.4)\n",
            "Requirement already satisfied: google-pasta>=0.1.8 in /usr/local/lib/python3.6/dist-packages (from tensorflow==2.3.1) (0.2.0)\n",
            "Requirement already satisfied: opt-einsum>=2.3.2 in /usr/local/lib/python3.6/dist-packages (from tensorflow==2.3.1) (3.3.0)\n",
            "Requirement already satisfied: wrapt>=1.11.1 in /usr/local/lib/python3.6/dist-packages (from tensorflow==2.3.1) (1.12.1)\n",
            "Requirement already satisfied: tensorboard<3,>=2.3.0 in /usr/local/lib/python3.6/dist-packages (from tensorflow==2.3.1) (2.4.0)\n",
            "Requirement already satisfied: astunparse==1.6.3 in /usr/local/lib/python3.6/dist-packages (from tensorflow==2.3.1) (1.6.3)\n",
            "Requirement already satisfied: absl-py>=0.7.0 in /usr/local/lib/python3.6/dist-packages (from tensorflow==2.3.1) (0.10.0)\n",
            "Requirement already satisfied: six>=1.12.0 in /usr/local/lib/python3.6/dist-packages (from tensorflow==2.3.1) (1.15.0)\n",
            "Requirement already satisfied: h5py<2.11.0,>=2.10.0 in /usr/local/lib/python3.6/dist-packages (from tensorflow==2.3.1) (2.10.0)\n",
            "Requirement already satisfied: grpcio>=1.8.6 in /usr/local/lib/python3.6/dist-packages (from tensorflow==2.3.1) (1.32.0)\n",
            "Requirement already satisfied: termcolor>=1.1.0 in /usr/local/lib/python3.6/dist-packages (from tensorflow==2.3.1) (1.1.0)\n",
            "Requirement already satisfied: wheel>=0.26 in /usr/local/lib/python3.6/dist-packages (from tensorflow==2.3.1) (0.36.2)\n",
            "Collecting numpy<1.19.0,>=1.16.0\n",
            "  Downloading numpy-1.18.5-cp36-cp36m-manylinux1_x86_64.whl (20.1 MB)\n",
            "\u001b[K     |████████████████████████████████| 20.1 MB 77.8 MB/s \n",
            "\u001b[?25hRequirement already satisfied: setuptools in /usr/local/lib/python3.6/dist-packages (from protobuf>=3.9.2->tensorflow==2.3.1) (51.1.2)\n",
            "Requirement already satisfied: werkzeug>=0.11.15 in /usr/local/lib/python3.6/dist-packages (from tensorboard<3,>=2.3.0->tensorflow==2.3.1) (1.0.1)\n",
            "Requirement already satisfied: markdown>=2.6.8 in /usr/local/lib/python3.6/dist-packages (from tensorboard<3,>=2.3.0->tensorflow==2.3.1) (3.3.3)\n",
            "Requirement already satisfied: google-auth-oauthlib<0.5,>=0.4.1 in /usr/local/lib/python3.6/dist-packages (from tensorboard<3,>=2.3.0->tensorflow==2.3.1) (0.4.2)\n",
            "Requirement already satisfied: google-auth<2,>=1.6.3 in /usr/local/lib/python3.6/dist-packages (from tensorboard<3,>=2.3.0->tensorflow==2.3.1) (1.17.2)\n",
            "Requirement already satisfied: requests<3,>=2.21.0 in /usr/local/lib/python3.6/dist-packages (from tensorboard<3,>=2.3.0->tensorflow==2.3.1) (2.23.0)\n",
            "Requirement already satisfied: tensorboard-plugin-wit>=1.6.0 in /usr/local/lib/python3.6/dist-packages (from tensorboard<3,>=2.3.0->tensorflow==2.3.1) (1.7.0)\n",
            "Requirement already satisfied: rsa<5,>=3.1.4 in /usr/local/lib/python3.6/dist-packages (from google-auth<2,>=1.6.3->tensorboard<3,>=2.3.0->tensorflow==2.3.1) (4.6)\n",
            "Requirement already satisfied: cachetools<5.0,>=2.0.0 in /usr/local/lib/python3.6/dist-packages (from google-auth<2,>=1.6.3->tensorboard<3,>=2.3.0->tensorflow==2.3.1) (4.2.0)\n",
            "Requirement already satisfied: pyasn1-modules>=0.2.1 in /usr/local/lib/python3.6/dist-packages (from google-auth<2,>=1.6.3->tensorboard<3,>=2.3.0->tensorflow==2.3.1) (0.2.8)\n",
            "Requirement already satisfied: requests-oauthlib>=0.7.0 in /usr/local/lib/python3.6/dist-packages (from google-auth-oauthlib<0.5,>=0.4.1->tensorboard<3,>=2.3.0->tensorflow==2.3.1) (1.3.0)\n",
            "Requirement already satisfied: importlib-metadata in /usr/local/lib/python3.6/dist-packages (from markdown>=2.6.8->tensorboard<3,>=2.3.0->tensorflow==2.3.1) (3.3.0)\n",
            "Requirement already satisfied: pyasn1<0.5.0,>=0.4.6 in /usr/local/lib/python3.6/dist-packages (from pyasn1-modules>=0.2.1->google-auth<2,>=1.6.3->tensorboard<3,>=2.3.0->tensorflow==2.3.1) (0.4.8)\n",
            "Requirement already satisfied: certifi>=2017.4.17 in /usr/local/lib/python3.6/dist-packages (from requests<3,>=2.21.0->tensorboard<3,>=2.3.0->tensorflow==2.3.1) (2020.12.5)\n",
            "Requirement already satisfied: chardet<4,>=3.0.2 in /usr/local/lib/python3.6/dist-packages (from requests<3,>=2.21.0->tensorboard<3,>=2.3.0->tensorflow==2.3.1) (3.0.4)\n",
            "Requirement already satisfied: urllib3!=1.25.0,!=1.25.1,<1.26,>=1.21.1 in /usr/local/lib/python3.6/dist-packages (from requests<3,>=2.21.0->tensorboard<3,>=2.3.0->tensorflow==2.3.1) (1.24.3)\n",
            "Requirement already satisfied: idna<3,>=2.5 in /usr/local/lib/python3.6/dist-packages (from requests<3,>=2.21.0->tensorboard<3,>=2.3.0->tensorflow==2.3.1) (2.10)\n",
            "Requirement already satisfied: oauthlib>=3.0.0 in /usr/local/lib/python3.6/dist-packages (from requests-oauthlib>=0.7.0->google-auth-oauthlib<0.5,>=0.4.1->tensorboard<3,>=2.3.0->tensorflow==2.3.1) (3.1.0)\n",
            "Collecting tensorflow-estimator<2.4.0,>=2.3.0\n",
            "  Downloading tensorflow_estimator-2.3.0-py2.py3-none-any.whl (459 kB)\n",
            "\u001b[K     |████████████████████████████████| 459 kB 70.5 MB/s \n",
            "\u001b[?25hRequirement already satisfied: typing-extensions>=3.6.4 in /usr/local/lib/python3.6/dist-packages (from importlib-metadata->markdown>=2.6.8->tensorboard<3,>=2.3.0->tensorflow==2.3.1) (3.7.4.3)\n",
            "Requirement already satisfied: zipp>=0.5 in /usr/local/lib/python3.6/dist-packages (from importlib-metadata->markdown>=2.6.8->tensorboard<3,>=2.3.0->tensorflow==2.3.1) (3.4.0)\n",
            "Installing collected packages: numpy, tensorflow-estimator, tensorflow\n",
            "  Attempting uninstall: numpy\n",
            "    Found existing installation: numpy 1.19.5\n",
            "    Uninstalling numpy-1.19.5:\n",
            "      Successfully uninstalled numpy-1.19.5\n",
            "  Attempting uninstall: tensorflow-estimator\n",
            "    Found existing installation: tensorflow-estimator 2.4.0\n",
            "    Uninstalling tensorflow-estimator-2.4.0:\n",
            "      Successfully uninstalled tensorflow-estimator-2.4.0\n",
            "  Attempting uninstall: tensorflow\n",
            "    Found existing installation: tensorflow 2.4.0\n",
            "    Uninstalling tensorflow-2.4.0:\n",
            "      Successfully uninstalled tensorflow-2.4.0\n",
            "\u001b[31mERROR: pip's dependency resolver does not currently take into account all the packages that are installed. This behaviour is the source of the following dependency conflicts.\n",
            "datascience 0.10.6 requires folium==0.2.1, but you have folium 0.8.3 which is incompatible.\n",
            "albumentations 0.1.12 requires imgaug<0.2.7,>=0.2.5, but you have imgaug 0.2.9 which is incompatible.\u001b[0m\n",
            "Successfully installed numpy-1.18.5 tensorflow-2.3.1 tensorflow-estimator-2.3.0\n"
          ],
          "name": "stdout"
        },
        {
          "output_type": "display_data",
          "data": {
            "application/vnd.colab-display-data+json": {
              "pip_warning": {
                "packages": [
                  "numpy",
                  "tensorflow"
                ]
              }
            }
          },
          "metadata": {
            "tags": []
          }
        },
        {
          "output_type": "stream",
          "text": [
            "Collecting tensorflow-quantum\n",
            "  Downloading tensorflow_quantum-0.4.0-cp36-cp36m-manylinux2010_x86_64.whl (5.9 MB)\n",
            "\u001b[K     |████████████████████████████████| 5.9 MB 5.2 MB/s \n",
            "\u001b[?25hCollecting cirq==0.9.1\n",
            "  Downloading cirq-0.9.1-py3-none-any.whl (1.6 MB)\n",
            "\u001b[K     |████████████████████████████████| 1.6 MB 63.3 MB/s \n",
            "\u001b[?25hRequirement already satisfied: requests~=2.18 in /usr/local/lib/python3.6/dist-packages (from cirq==0.9.1->tensorflow-quantum) (2.23.0)\n",
            "Requirement already satisfied: numpy~=1.16 in /usr/local/lib/python3.6/dist-packages (from cirq==0.9.1->tensorflow-quantum) (1.18.5)\n",
            "Requirement already satisfied: google-api-core[grpc]<2.0.0dev,>=1.14.0 in /usr/local/lib/python3.6/dist-packages (from cirq==0.9.1->tensorflow-quantum) (1.16.0)\n",
            "Requirement already satisfied: matplotlib~=3.0 in /usr/local/lib/python3.6/dist-packages (from cirq==0.9.1->tensorflow-quantum) (3.2.2)\n",
            "Requirement already satisfied: protobuf~=3.12.0 in /usr/local/lib/python3.6/dist-packages (from cirq==0.9.1->tensorflow-quantum) (3.12.4)\n",
            "Requirement already satisfied: pandas in /usr/local/lib/python3.6/dist-packages (from cirq==0.9.1->tensorflow-quantum) (1.1.5)\n",
            "Requirement already satisfied: typing-extensions in /usr/local/lib/python3.6/dist-packages (from cirq==0.9.1->tensorflow-quantum) (3.7.4.3)\n",
            "Requirement already satisfied: dataclasses in /usr/local/lib/python3.6/dist-packages (from cirq==0.9.1->tensorflow-quantum) (0.8)\n",
            "Requirement already satisfied: sortedcontainers~=2.0 in /usr/local/lib/python3.6/dist-packages (from cirq==0.9.1->tensorflow-quantum) (2.3.0)\n",
            "Requirement already satisfied: networkx~=2.4 in /usr/local/lib/python3.6/dist-packages (from cirq==0.9.1->tensorflow-quantum) (2.5)\n",
            "Requirement already satisfied: scipy in /usr/local/lib/python3.6/dist-packages (from cirq==0.9.1->tensorflow-quantum) (1.4.1)\n",
            "Collecting sympy==1.5\n",
            "  Downloading sympy-1.5-py2.py3-none-any.whl (5.6 MB)\n",
            "\u001b[K     |████████████████████████████████| 5.6 MB 3.0 MB/s \n",
            "\u001b[?25hRequirement already satisfied: mpmath>=0.19 in /usr/local/lib/python3.6/dist-packages (from sympy==1.5->tensorflow-quantum) (1.1.0)\n",
            "Collecting freezegun~=0.3.15\n",
            "  Downloading freezegun-0.3.15-py2.py3-none-any.whl (14 kB)\n",
            "Requirement already satisfied: six in /usr/local/lib/python3.6/dist-packages (from freezegun~=0.3.15->cirq==0.9.1->tensorflow-quantum) (1.15.0)\n",
            "Requirement already satisfied: python-dateutil!=2.0,>=1.0 in /usr/local/lib/python3.6/dist-packages (from freezegun~=0.3.15->cirq==0.9.1->tensorflow-quantum) (2.8.1)\n",
            "Requirement already satisfied: google-auth<2.0dev,>=0.4.0 in /usr/local/lib/python3.6/dist-packages (from google-api-core[grpc]<2.0.0dev,>=1.14.0->cirq==0.9.1->tensorflow-quantum) (1.17.2)\n",
            "Requirement already satisfied: googleapis-common-protos<2.0dev,>=1.6.0 in /usr/local/lib/python3.6/dist-packages (from google-api-core[grpc]<2.0.0dev,>=1.14.0->cirq==0.9.1->tensorflow-quantum) (1.52.0)\n",
            "Requirement already satisfied: setuptools>=34.0.0 in /usr/local/lib/python3.6/dist-packages (from google-api-core[grpc]<2.0.0dev,>=1.14.0->cirq==0.9.1->tensorflow-quantum) (51.1.2)\n",
            "Requirement already satisfied: pytz in /usr/local/lib/python3.6/dist-packages (from google-api-core[grpc]<2.0.0dev,>=1.14.0->cirq==0.9.1->tensorflow-quantum) (2018.9)\n",
            "Requirement already satisfied: grpcio<2.0dev,>=1.8.2 in /usr/local/lib/python3.6/dist-packages (from google-api-core[grpc]<2.0.0dev,>=1.14.0->cirq==0.9.1->tensorflow-quantum) (1.32.0)\n",
            "Requirement already satisfied: pyasn1-modules>=0.2.1 in /usr/local/lib/python3.6/dist-packages (from google-auth<2.0dev,>=0.4.0->google-api-core[grpc]<2.0.0dev,>=1.14.0->cirq==0.9.1->tensorflow-quantum) (0.2.8)\n",
            "Requirement already satisfied: rsa<5,>=3.1.4 in /usr/local/lib/python3.6/dist-packages (from google-auth<2.0dev,>=0.4.0->google-api-core[grpc]<2.0.0dev,>=1.14.0->cirq==0.9.1->tensorflow-quantum) (4.6)\n",
            "Requirement already satisfied: cachetools<5.0,>=2.0.0 in /usr/local/lib/python3.6/dist-packages (from google-auth<2.0dev,>=0.4.0->google-api-core[grpc]<2.0.0dev,>=1.14.0->cirq==0.9.1->tensorflow-quantum) (4.2.0)\n",
            "Requirement already satisfied: pyparsing!=2.0.4,!=2.1.2,!=2.1.6,>=2.0.1 in /usr/local/lib/python3.6/dist-packages (from matplotlib~=3.0->cirq==0.9.1->tensorflow-quantum) (2.4.7)\n",
            "Requirement already satisfied: cycler>=0.10 in /usr/local/lib/python3.6/dist-packages (from matplotlib~=3.0->cirq==0.9.1->tensorflow-quantum) (0.10.0)\n",
            "Requirement already satisfied: kiwisolver>=1.0.1 in /usr/local/lib/python3.6/dist-packages (from matplotlib~=3.0->cirq==0.9.1->tensorflow-quantum) (1.3.1)\n",
            "Requirement already satisfied: decorator>=4.3.0 in /usr/local/lib/python3.6/dist-packages (from networkx~=2.4->cirq==0.9.1->tensorflow-quantum) (4.4.2)\n",
            "Requirement already satisfied: pyasn1<0.5.0,>=0.4.6 in /usr/local/lib/python3.6/dist-packages (from pyasn1-modules>=0.2.1->google-auth<2.0dev,>=0.4.0->google-api-core[grpc]<2.0.0dev,>=1.14.0->cirq==0.9.1->tensorflow-quantum) (0.4.8)\n",
            "Requirement already satisfied: chardet<4,>=3.0.2 in /usr/local/lib/python3.6/dist-packages (from requests~=2.18->cirq==0.9.1->tensorflow-quantum) (3.0.4)\n",
            "Requirement already satisfied: certifi>=2017.4.17 in /usr/local/lib/python3.6/dist-packages (from requests~=2.18->cirq==0.9.1->tensorflow-quantum) (2020.12.5)\n",
            "Requirement already satisfied: idna<3,>=2.5 in /usr/local/lib/python3.6/dist-packages (from requests~=2.18->cirq==0.9.1->tensorflow-quantum) (2.10)\n",
            "Requirement already satisfied: urllib3!=1.25.0,!=1.25.1,<1.26,>=1.21.1 in /usr/local/lib/python3.6/dist-packages (from requests~=2.18->cirq==0.9.1->tensorflow-quantum) (1.24.3)\n",
            "Installing collected packages: sympy, freezegun, cirq, tensorflow-quantum\n",
            "  Attempting uninstall: sympy\n",
            "    Found existing installation: sympy 1.1.1\n",
            "    Uninstalling sympy-1.1.1:\n",
            "      Successfully uninstalled sympy-1.1.1\n",
            "Successfully installed cirq-0.9.1 freezegun-0.3.15 sympy-1.5 tensorflow-quantum-0.4.0\n"
          ],
          "name": "stdout"
        }
      ]
    },
    {
      "cell_type": "code",
      "metadata": {
        "id": "buak82nTMzzU"
      },
      "source": [
        "\r\n",
        "import tensorflow as tf\r\n",
        "import tensorflow_quantum as tfq\r\n",
        "\r\n",
        "from tensorflow.keras import datasets, layers, models\r\n",
        "\r\n",
        "import cirq\r\n",
        "import sympy\r\n",
        "import numpy as np\r\n",
        "import collections\r\n",
        "\r\n",
        "# visualization tools\r\n",
        "%matplotlib inline\r\n",
        "import matplotlib as mpl\r\n",
        "import matplotlib.pyplot as plt\r\n",
        "from cirq.contrib.svg import SVGCircuit"
      ],
      "execution_count": null,
      "outputs": []
    },
    {
      "cell_type": "code",
      "metadata": {
        "colab": {
          "base_uri": "https://localhost:8080/"
        },
        "id": "HgqPTOGlM4Aa",
        "outputId": "fadf2467-af80-477e-f174-8a00f2cb4c76"
      },
      "source": [
        "(x_train, y_train), (x_test, y_test) = tf.keras.datasets.mnist.load_data()\r\n",
        "\r\n",
        "# Rescale the images from [0,255] to the [0.0,1.0] range.\r\n",
        "x_train, x_test = x_train[..., np.newaxis]/255.0, x_test[..., np.newaxis]/255.0\r\n",
        "\r\n",
        "print(\"Number of original training examples:\", len(x_train))\r\n",
        "print(\"Number of original test examples:\", len(x_test))"
      ],
      "execution_count": null,
      "outputs": [
        {
          "output_type": "stream",
          "text": [
            "Downloading data from https://storage.googleapis.com/tensorflow/tf-keras-datasets/mnist.npz\n",
            "11493376/11490434 [==============================] - 0s 0us/step\n",
            "Number of original training examples: 60000\n",
            "Number of original test examples: 10000\n"
          ],
          "name": "stdout"
        }
      ]
    },
    {
      "cell_type": "code",
      "metadata": {
        "id": "hiXG_sIANj2D"
      },
      "source": [
        "\r\n",
        "x_train= tf.cast(x_train, tf.float32)\r\n",
        "x_test=tf.cast(x_test, tf.float32)\r\n",
        "\r\n",
        "x_train = tf.image.resize(x_train[:], (10,10)).numpy()\r\n",
        "x_test = tf.image.resize(x_test[:], (10,10)).numpy()\r\n",
        "\r\n",
        "y_train = y_train[:]\r\n",
        "y_test = y_test[:]"
      ],
      "execution_count": null,
      "outputs": []
    },
    {
      "cell_type": "code",
      "metadata": {
        "colab": {
          "base_uri": "https://localhost:8080/",
          "height": 282
        },
        "id": "q2g5QwjGNmCB",
        "outputId": "ed785097-0905-477b-8f54-858d8b7d657f"
      },
      "source": [
        "\r\n",
        "print(y_train[0])\r\n",
        "fig = plt.figure()\r\n",
        "plt.imshow(x_train[0, :, :, 0], cmap='gray_r')\r\n",
        "plt.colorbar()\r\n",
        "fig.savefig('sample', dpi=300)"
      ],
      "execution_count": null,
      "outputs": [
        {
          "output_type": "stream",
          "text": [
            "5\n"
          ],
          "name": "stdout"
        },
        {
          "output_type": "display_data",
          "data": {
            "image/png": "[encoded data removed]",
            "text/plain": [
              "<Figure size 432x288 with 2 Axes>"
            ]
          },
          "metadata": {
            "tags": []
          }
        }
      ]
    },
    {
      "cell_type": "code",
      "metadata": {
        "id": "mi7O_nPENoLH"
      },
      "source": [
        "\r\n",
        "width = np.shape(x_train)[1]\r\n",
        "height = np.shape(x_train)[2]\r\n",
        "\r\n",
        "fc_model = models.Sequential()\r\n",
        "\r\n",
        "fc_model.add(layers.Flatten(input_shape=(width,height,1)))\r\n",
        "fc_model.add(layers.Dense(32, activation='relu'))\r\n",
        "fc_model.add(layers.Dense(10, activation='softmax'))"
      ],
      "execution_count": null,
      "outputs": []
    },
    {
      "cell_type": "code",
      "metadata": {
        "colab": {
          "base_uri": "https://localhost:8080/"
        },
        "id": "Bq-kkt6INuRK",
        "outputId": "1a624106-43c1-47ef-bb5b-7c2e9a76f561"
      },
      "source": [
        "fc_model.compile(optimizer='adam',\r\n",
        "              loss='sparse_categorical_crossentropy',\r\n",
        "              metrics=['accuracy'])\r\n",
        "\r\n",
        "fc_history = fc_model.fit(x_train, y_train, steps_per_epoch=10,\r\n",
        "                        validation_data=(x_test, y_test), \r\n",
        "                        epochs=10, batch_size=32)"
      ],
      "execution_count": null,
      "outputs": [
        {
          "output_type": "stream",
          "text": [
            "Epoch 1/10\n",
            "10/10 [==============================] - 0s 44ms/step - loss: 2.3287 - accuracy: 0.0938 - val_loss: 2.3097 - val_accuracy: 0.1130\n",
            "Epoch 2/10\n",
            "10/10 [==============================] - 0s 27ms/step - loss: 2.3039 - accuracy: 0.1187 - val_loss: 2.2605 - val_accuracy: 0.1618\n",
            "Epoch 3/10\n",
            "10/10 [==============================] - 0s 28ms/step - loss: 2.2365 - accuracy: 0.1969 - val_loss: 2.2156 - val_accuracy: 0.2142\n",
            "Epoch 4/10\n",
            "10/10 [==============================] - 0s 28ms/step - loss: 2.2002 - accuracy: 0.2375 - val_loss: 2.1704 - val_accuracy: 0.2696\n",
            "Epoch 5/10\n",
            "10/10 [==============================] - 0s 28ms/step - loss: 2.1668 - accuracy: 0.2406 - val_loss: 2.1237 - val_accuracy: 0.3266\n",
            "Epoch 6/10\n",
            "10/10 [==============================] - 0s 28ms/step - loss: 2.1013 - accuracy: 0.3375 - val_loss: 2.0747 - val_accuracy: 0.3698\n",
            "Epoch 7/10\n",
            "10/10 [==============================] - 0s 26ms/step - loss: 2.0431 - accuracy: 0.3812 - val_loss: 2.0216 - val_accuracy: 0.3880\n",
            "Epoch 8/10\n",
            "10/10 [==============================] - 0s 30ms/step - loss: 1.9941 - accuracy: 0.3969 - val_loss: 1.9676 - val_accuracy: 0.4102\n",
            "Epoch 9/10\n",
            "10/10 [==============================] - 0s 28ms/step - loss: 1.9134 - accuracy: 0.4313 - val_loss: 1.9080 - val_accuracy: 0.4399\n",
            "Epoch 10/10\n",
            "10/10 [==============================] - 0s 34ms/step - loss: 1.9218 - accuracy: 0.4250 - val_loss: 1.8465 - val_accuracy: 0.4869\n"
          ],
          "name": "stdout"
        }
      ]
    },
    {
      "cell_type": "code",
      "metadata": {
        "id": "0jF4iBzjNwmM"
      },
      "source": [
        "width = np.shape(x_train)[1]\r\n",
        "height = np.shape(x_train)[2]\r\n",
        "\r\n",
        "cnn_model = models.Sequential()\r\n",
        "\r\n",
        "cnn_model.add(layers.Conv2D(8, (2, 2), activation='relu', input_shape=(width, height, 1)))\r\n",
        "#model.add(layers.MaxPooling2D((2, 2)))\r\n",
        "#model.add(layers.Conv2D(16, (2, 2), activation='relu'))\r\n",
        "\r\n",
        "cnn_model.add(layers.Flatten())\r\n",
        "cnn_model.add(layers.Dense(32, activation='relu'))\r\n",
        "cnn_model.add(layers.Dense(10, activation='softmax'))"
      ],
      "execution_count": null,
      "outputs": []
    },
    {
      "cell_type": "code",
      "metadata": {
        "colab": {
          "base_uri": "https://localhost:8080/"
        },
        "id": "HiuqbytdOgOo",
        "outputId": "362667f5-83d1-4dac-c8d7-e3d5af1916fe"
      },
      "source": [
        "cnn_model.summary()"
      ],
      "execution_count": null,
      "outputs": [
        {
          "output_type": "stream",
          "text": [
            "Model: \"sequential_1\"\n",
            "_________________________________________________________________\n",
            "Layer (type)                 Output Shape              Param #   \n",
            "=================================================================\n",
            "conv2d (Conv2D)              (None, 9, 9, 8)           40        \n",
            "_________________________________________________________________\n",
            "flatten_1 (Flatten)          (None, 648)               0         \n",
            "_________________________________________________________________\n",
            "dense_2 (Dense)              (None, 32)                20768     \n",
            "_________________________________________________________________\n",
            "dense_3 (Dense)              (None, 10)                330       \n",
            "=================================================================\n",
            "Total params: 21,138\n",
            "Trainable params: 21,138\n",
            "Non-trainable params: 0\n",
            "_________________________________________________________________\n"
          ],
          "name": "stdout"
        }
      ]
    },
    {
      "cell_type": "code",
      "metadata": {
        "colab": {
          "base_uri": "https://localhost:8080/"
        },
        "id": "h2PDMtmBOjOZ",
        "outputId": "98c54648-027b-4a4c-9e72-58cf36daf7b9"
      },
      "source": [
        "\r\n",
        "cnn_model.compile(optimizer=tf.optimizers.Adam(),\r\n",
        "              loss='sparse_categorical_crossentropy',\r\n",
        "              metrics=['accuracy'])\r\n",
        "\r\n",
        "cnn_history = cnn_model.fit(x_train, y_train, steps_per_epoch=10,\r\n",
        "                        validation_data=(x_test, y_test), \r\n",
        "                        epochs=10, batch_size=32)"
      ],
      "execution_count": null,
      "outputs": [
        {
          "output_type": "stream",
          "text": [
            "Epoch 1/10\n",
            "10/10 [==============================] - 1s 79ms/step - loss: 2.2523 - accuracy: 0.2031 - val_loss: 2.1802 - val_accuracy: 0.3485\n",
            "Epoch 2/10\n",
            "10/10 [==============================] - 1s 51ms/step - loss: 2.1459 - accuracy: 0.4094 - val_loss: 2.0568 - val_accuracy: 0.4850\n",
            "Epoch 3/10\n",
            "10/10 [==============================] - 1s 55ms/step - loss: 2.0046 - accuracy: 0.5469 - val_loss: 1.8974 - val_accuracy: 0.6005\n",
            "Epoch 4/10\n",
            "10/10 [==============================] - 1s 58ms/step - loss: 1.7908 - accuracy: 0.6531 - val_loss: 1.7137 - val_accuracy: 0.6499\n",
            "Epoch 5/10\n",
            "10/10 [==============================] - 1s 50ms/step - loss: 1.6279 - accuracy: 0.6719 - val_loss: 1.5233 - val_accuracy: 0.7000\n",
            "Epoch 6/10\n",
            "10/10 [==============================] - 0s 42ms/step - loss: 1.4272 - accuracy: 0.6906 - val_loss: 1.3557 - val_accuracy: 0.6691\n",
            "Epoch 7/10\n",
            "10/10 [==============================] - 0s 43ms/step - loss: 1.2419 - accuracy: 0.7156 - val_loss: 1.1736 - val_accuracy: 0.7392\n",
            "Epoch 8/10\n",
            "10/10 [==============================] - 0s 46ms/step - loss: 1.1552 - accuracy: 0.7375 - val_loss: 1.0398 - val_accuracy: 0.7699\n",
            "Epoch 9/10\n",
            "10/10 [==============================] - 0s 48ms/step - loss: 1.0342 - accuracy: 0.7656 - val_loss: 0.9289 - val_accuracy: 0.7752\n",
            "Epoch 10/10\n",
            "10/10 [==============================] - 0s 45ms/step - loss: 0.8751 - accuracy: 0.7781 - val_loss: 0.8419 - val_accuracy: 0.7913\n"
          ],
          "name": "stdout"
        }
      ]
    },
    {
      "cell_type": "code",
      "metadata": {
        "colab": {
          "base_uri": "https://localhost:8080/"
        },
        "id": "kD4HbNZ3OloO",
        "outputId": "7b8aab90-66e7-4d4f-9613-7106499ff00d"
      },
      "source": [
        "test_loss, test_acc = cnn_model.evaluate(x_test, y_test, verbose=2)"
      ],
      "execution_count": null,
      "outputs": [
        {
          "output_type": "stream",
          "text": [
            "313/313 - 0s - loss: 0.8419 - accuracy: 0.7913\n"
          ],
          "name": "stdout"
        }
      ]
    },
    {
      "cell_type": "code",
      "metadata": {
        "id": "Q2ZAAqpsOo53"
      },
      "source": [
        "class QConv(tf.keras.layers.Layer):\r\n",
        "    def __init__(self, filter_size, depth, activation=None, name=None, kernel_regularizer=None, **kwangs):\r\n",
        "        super(QConv, self).__init__(name=name, **kwangs)\r\n",
        "        self.filter_size = filter_size\r\n",
        "        self.depth = depth\r\n",
        "        self.learning_params = []\r\n",
        "        self.QCNN_layer_gen()\r\n",
        "        # self.circuit_tensor = tfq.convert_to_tensor([self.circuit])\r\n",
        "        self.activation = tf.keras.layers.Activation(activation)\r\n",
        "        self.kernel_regularizer = kernel_regularizer\r\n",
        "\r\n",
        "    def _next_qubit_set(self, original_size, next_size, qubits):\r\n",
        "        step = original_size // next_size\r\n",
        "        qubit_list = []\r\n",
        "        for i in range(0, original_size, step):\r\n",
        "            for j in range(0, original_size, step):\r\n",
        "                qubit_list.append(qubits[original_size*i + j])\r\n",
        "        return qubit_list\r\n",
        "\r\n",
        "    def _get_new_param(self):\r\n",
        "        \"\"\"\r\n",
        "        return new learnable parameter\r\n",
        "        all returned parameter saved in self.learning_params\r\n",
        "        \"\"\"\r\n",
        "        new_param = sympy.symbols(\"p\"+str(len(self.learning_params)))\r\n",
        "        self.learning_params.append(new_param)\r\n",
        "        return new_param\r\n",
        "    \r\n",
        "    def _QConv(self, step, target, qubits):\r\n",
        "        \"\"\"\r\n",
        "        apply learnable gates each quantum convolutional layer level\r\n",
        "        \"\"\"\r\n",
        "        yield cirq.CZPowGate(exponent=self._get_new_param())(qubits[target], qubits[target+step])\r\n",
        "        yield cirq.CXPowGate(exponent=self._get_new_param())(qubits[target], qubits[target+step])\r\n",
        "        \r\n",
        "    def QCNN_layer_gen(self):\r\n",
        "        \"\"\"\r\n",
        "        make quantum convolutional layer in QConv layer\r\n",
        "        \"\"\"\r\n",
        "        pixels = self.filter_size**2\r\n",
        "        # filter size: 2^n only for this version!\r\n",
        "        if np.log2(pixels) % 1 != 0:\r\n",
        "            raise NotImplementedError(\"filter size: 2^n only available\")\r\n",
        "        cirq_qubits = cirq.GridQubit.rect(self.filter_size, self.filter_size)\r\n",
        "        # mapping input data to circuit\r\n",
        "        input_circuit = cirq.Circuit()\r\n",
        "        input_params = [sympy.symbols('a%d' %i) for i in range(pixels)]\r\n",
        "        for i, qubit in enumerate(cirq_qubits):\r\n",
        "            input_circuit.append(cirq.rx(np.pi*input_params[i])(qubit))\r\n",
        "        # apply learnable gate set to QCNN circuit\r\n",
        "        QCNN_circuit = cirq.Circuit()\r\n",
        "        step_size = [2**i for i in range(np.log2(pixels).astype(np.int32))]\r\n",
        "        for step in step_size:\r\n",
        "            for target in range(0, pixels, 2*step):\r\n",
        "                QCNN_circuit.append(self._QConv(step, target, cirq_qubits))\r\n",
        "        # merge the circuits\r\n",
        "        full_circuit = cirq.Circuit()\r\n",
        "        full_circuit.append(input_circuit)\r\n",
        "        full_circuit.append(QCNN_circuit)\r\n",
        "        self.circuit = full_circuit # save circuit to the QCNN layer obj.\r\n",
        "        self.params = input_params + self.learning_params\r\n",
        "        self.op = cirq.Z(cirq_qubits[0])\r\n",
        "        \r\n",
        "    def build(self, input_shape):\r\n",
        "        self.width = input_shape[1]\r\n",
        "        self.height = input_shape[2]\r\n",
        "        self.channel = input_shape[3]\r\n",
        "        self.num_x = self.width - self.filter_size + 1\r\n",
        "        self.num_y = self.height - self.filter_size + 1\r\n",
        "        \r\n",
        "        self.kernel = self.add_weight(name=\"kenel\", \r\n",
        "                                      shape=[self.depth, \r\n",
        "                                             self.channel, \r\n",
        "                                             len(self.learning_params)],\r\n",
        "                                     initializer=tf.keras.initializers.glorot_normal(),\r\n",
        "                                     regularizer=self.kernel_regularizer)\r\n",
        "        self.circuit_tensor = tfq.convert_to_tensor([self.circuit] * self.num_x * self.num_y * self.channel)\r\n",
        "        \r\n",
        "    def call(self, inputs):\r\n",
        "        # input shape: [N, width, height, channel]\r\n",
        "        # slide and collect data\r\n",
        "        stack_set = None\r\n",
        "        for i in range(self.num_x):\r\n",
        "            for j in range(self.num_y):\r\n",
        "                slice_part = tf.slice(inputs, [0, i, j, 0], [-1, self.filter_size, self.filter_size, -1])\r\n",
        "                slice_part = tf.reshape(slice_part, shape=[-1, 1, self.filter_size, self.filter_size, self.channel])\r\n",
        "                if stack_set == None:\r\n",
        "                    stack_set = slice_part\r\n",
        "                else:\r\n",
        "                    stack_set = tf.concat([stack_set, slice_part], 1)  \r\n",
        "        # -> shape: [N, num_x*num_y, filter_size, filter_size, channel]\r\n",
        "        stack_set = tf.transpose(stack_set, perm=[0, 1, 4, 2, 3])\r\n",
        "        # -> shape: [N, num_x*num_y, channel, filter_size, fiter_size]\r\n",
        "        stack_set = tf.reshape(stack_set, shape=[-1, self.filter_size**2])\r\n",
        "        # -> shape: [N*num_x*num_y*channel, filter_size^2]\r\n",
        "        \r\n",
        "        # total input citcuits: N * num_x * num_y * channel\r\n",
        "        circuit_inputs = tf.tile([self.circuit_tensor], [tf.shape(inputs)[0], 1])\r\n",
        "        circuit_inputs = tf.reshape(circuit_inputs, shape=[-1])\r\n",
        "        tf.fill([tf.shape(inputs)[0]*self.num_x*self.num_y, 1], 1)\r\n",
        "        outputs = []\r\n",
        "        for i in range(self.depth):\r\n",
        "            controller = tf.tile(self.kernel[i], [tf.shape(inputs)[0]*self.num_x*self.num_y, 1])\r\n",
        "            outputs.append(self.single_depth_QCNN(stack_set, controller, circuit_inputs))\r\n",
        "            # shape: [N, num_x, num_y] \r\n",
        "            \r\n",
        "        output_tensor = tf.stack(outputs, axis=3)\r\n",
        "        output_tensor = tf.math.acos(tf.clip_by_value(output_tensor, -1+1e-5, 1-1e-5)) / np.pi\r\n",
        "        # output_tensor = tf.clip_by_value(tf.math.acos(output_tensor)/np.pi, -1, 1)\r\n",
        "        return self.activation(output_tensor)\r\n",
        "          \r\n",
        "    def single_depth_QCNN(self, input_data, controller, circuit_inputs):\r\n",
        "        \"\"\"\r\n",
        "        make QCNN for 1 channel only\r\n",
        "        \"\"\"\r\n",
        "        # input shape: [N*num_x*num_y*channel, filter_size^2]\r\n",
        "        # controller shape: [N*num_x*num_y*channel, len(learning_params)]\r\n",
        "        input_data = tf.concat([input_data, controller], 1)\r\n",
        "        # input_data shape: [N*num_x*num_y*channel, len(learning_params)]\r\n",
        "        QCNN_output = tfq.layers.Expectation()(circuit_inputs, \r\n",
        "                                               symbol_names=self.params,\r\n",
        "                                               symbol_values=input_data,\r\n",
        "                                               operators=self.op)\r\n",
        "        # QCNN_output shape: [N*num_x*num_y*channel]\r\n",
        "        QCNN_output = tf.reshape(QCNN_output, shape=[-1, self.num_x, self.num_y, self.channel])\r\n",
        "        return tf.math.reduce_sum(QCNN_output, 3)"
      ],
      "execution_count": null,
      "outputs": []
    },
    {
      "cell_type": "code",
      "metadata": {
        "id": "YrPEVK8YOwfG"
      },
      "source": [
        "width = np.shape(x_train)[1]\r\n",
        "height = np.shape(x_train)[2]\r\n",
        "\r\n",
        "qcnn_model = models.Sequential()\r\n",
        "\r\n",
        "\r\n",
        "qcnn_model.add(QConv(filter_size=2, depth=8, activation='relu', \r\n",
        "                     name='qconv1', input_shape=(width, height, 1)))\r\n",
        "#model.add(layers.Conv2D(16, (2, 2), activation='relu'))\r\n",
        "qcnn_model.add(layers.Flatten())\r\n",
        "qcnn_model.add(layers.Dense(32, activation='relu'))\r\n",
        "qcnn_model.add(layers.Dense(10, activation='softmax'))"
      ],
      "execution_count": null,
      "outputs": []
    },
    {
      "cell_type": "code",
      "metadata": {
        "colab": {
          "base_uri": "https://localhost:8080/"
        },
        "id": "qL4IZdDjOzMM",
        "outputId": "e027b61c-e229-466b-d512-d1c2a2acc53d"
      },
      "source": [
        "qcnn_model.summary()"
      ],
      "execution_count": null,
      "outputs": [
        {
          "output_type": "stream",
          "text": [
            "Model: \"sequential_2\"\n",
            "_________________________________________________________________\n",
            "Layer (type)                 Output Shape              Param #   \n",
            "=================================================================\n",
            "qconv1 (QConv)               (None, 9, 9, 8)           48        \n",
            "_________________________________________________________________\n",
            "flatten_2 (Flatten)          (None, 648)               0         \n",
            "_________________________________________________________________\n",
            "dense_4 (Dense)              (None, 32)                20768     \n",
            "_________________________________________________________________\n",
            "dense_5 (Dense)              (None, 10)                330       \n",
            "=================================================================\n",
            "Total params: 21,146\n",
            "Trainable params: 21,146\n",
            "Non-trainable params: 0\n",
            "_________________________________________________________________\n"
          ],
          "name": "stdout"
        }
      ]
    },
    {
      "cell_type": "code",
      "metadata": {
        "colab": {
          "base_uri": "https://localhost:8080/",
          "height": 238
        },
        "id": "jCXPsDCYO12J",
        "outputId": "354bd088-8151-4787-dcd8-242e95282aa9"
      },
      "source": [
        "SVGCircuit(QConv(filter_size=2, depth=0, activation='relu').circuit)"
      ],
      "execution_count": null,
      "outputs": [
        {
          "output_type": "stream",
          "text": [
            "findfont: Font family ['Arial'] not found. Falling back to DejaVu Sans.\n"
          ],
          "name": "stderr"
        },
        {
          "output_type": "execute_result",
          "data": {
            "image/svg+xml": "<svg xmlns=\"http://www.w3.org/2000/svg\" width=\"606.96109375\" height=\"200.0\"><line x1=\"34.7588671875\" x2=\"576.96109375\" y1=\"25.0\" y2=\"25.0\" stroke=\"#1967d2\" stroke-width=\"1\" /><line x1=\"34.7588671875\" x2=\"576.96109375\" y1=\"75.0\" y2=\"75.0\" stroke=\"#1967d2\" stroke-width=\"1\" /><line x1=\"34.7588671875\" x2=\"576.96109375\" y1=\"125.0\" y2=\"125.0\" stroke=\"#1967d2\" stroke-width=\"1\" /><line x1=\"34.7588671875\" x2=\"576.96109375\" y1=\"175.0\" y2=\"175.0\" stroke=\"#1967d2\" stroke-width=\"1\" /><line x1=\"324.25851562500003\" x2=\"324.25851562500003\" y1=\"25.0\" y2=\"75.0\" stroke=\"black\" stroke-width=\"3\" /><line x1=\"324.25851562500003\" x2=\"324.25851562500003\" y1=\"125.0\" y2=\"175.0\" stroke=\"black\" stroke-width=\"3\" /><line x1=\"393.88220703125\" x2=\"393.88220703125\" y1=\"25.0\" y2=\"75.0\" stroke=\"black\" stroke-width=\"3\" /><line x1=\"393.88220703125\" x2=\"393.88220703125\" y1=\"125.0\" y2=\"175.0\" stroke=\"black\" stroke-width=\"3\" /><line x1=\"463.5780859375\" x2=\"463.5780859375\" y1=\"25.0\" y2=\"125.0\" stroke=\"black\" stroke-width=\"3\" /><line x1=\"533.22365234375\" x2=\"533.22365234375\" y1=\"25.0\" y2=\"125.0\" stroke=\"black\" stroke-width=\"3\" /><rect x=\"10.0\" y=\"5.0\" width=\"49.517734375\" height=\"40\" stroke=\"black\" fill=\"white\" stroke-width=\"0\" /><text x=\"34.7588671875\" y=\"25.0\" dominant-baseline=\"middle\" text-anchor=\"middle\" font-size=\"14px\" font-family=\"Arial\">(0, 0): </text><rect x=\"10.0\" y=\"55.0\" width=\"49.517734375\" height=\"40\" stroke=\"black\" fill=\"white\" stroke-width=\"0\" /><text x=\"34.7588671875\" y=\"75.0\" dominant-baseline=\"middle\" text-anchor=\"middle\" font-size=\"14px\" font-family=\"Arial\">(0, 1): </text><rect x=\"10.0\" y=\"105.0\" width=\"49.517734375\" height=\"40\" stroke=\"black\" fill=\"white\" stroke-width=\"0\" /><text x=\"34.7588671875\" y=\"125.0\" dominant-baseline=\"middle\" text-anchor=\"middle\" font-size=\"14px\" font-family=\"Arial\">(1, 0): </text><rect x=\"10.0\" y=\"155.0\" width=\"49.517734375\" height=\"40\" stroke=\"black\" fill=\"white\" stroke-width=\"0\" /><text x=\"34.7588671875\" y=\"175.0\" dominant-baseline=\"middle\" text-anchor=\"middle\" font-size=\"14px\" font-family=\"Arial\">(1, 1): </text><rect x=\"79.51773437499999\" y=\"5.0\" width=\"198.90484375000003\" height=\"40\" stroke=\"black\" fill=\"white\" stroke-width=\"1\" /><text x=\"178.97015625\" y=\"25.0\" dominant-baseline=\"middle\" text-anchor=\"middle\" font-size=\"14px\" font-family=\"Arial\">Rx(3.14159265358979*a0)</text><rect x=\"79.51773437499999\" y=\"55.0\" width=\"198.90484375000003\" height=\"40\" stroke=\"black\" fill=\"white\" stroke-width=\"1\" /><text x=\"178.97015625\" y=\"75.0\" dominant-baseline=\"middle\" text-anchor=\"middle\" font-size=\"14px\" font-family=\"Arial\">Rx(3.14159265358979*a1)</text><rect x=\"79.51773437499999\" y=\"105.0\" width=\"198.90484375000003\" height=\"40\" stroke=\"black\" fill=\"white\" stroke-width=\"1\" /><text x=\"178.97015625\" y=\"125.0\" dominant-baseline=\"middle\" text-anchor=\"middle\" font-size=\"14px\" font-family=\"Arial\">Rx(3.14159265358979*a2)</text><rect x=\"79.51773437499999\" y=\"155.0\" width=\"198.90484375000003\" height=\"40\" stroke=\"black\" fill=\"white\" stroke-width=\"1\" /><text x=\"178.97015625\" y=\"175.0\" dominant-baseline=\"middle\" text-anchor=\"middle\" font-size=\"14px\" font-family=\"Arial\">Rx(3.14159265358979*a3)</text><circle cx=\"324.25851562500003\" cy=\"25.0\" r=\"10.0\" /><rect x=\"298.42257812500003\" y=\"55.0\" width=\"51.671875\" height=\"40\" stroke=\"black\" fill=\"white\" stroke-width=\"1\" /><text x=\"324.25851562500003\" y=\"75.0\" dominant-baseline=\"middle\" text-anchor=\"middle\" font-size=\"14px\" font-family=\"Arial\">@^p0</text><circle cx=\"324.25851562500003\" cy=\"125.0\" r=\"10.0\" /><rect x=\"298.42257812500003\" y=\"155.0\" width=\"51.671875\" height=\"40\" stroke=\"black\" fill=\"white\" stroke-width=\"1\" /><text x=\"324.25851562500003\" y=\"175.0\" dominant-baseline=\"middle\" text-anchor=\"middle\" font-size=\"14px\" font-family=\"Arial\">@^p2</text><circle cx=\"393.88220703125\" cy=\"25.0\" r=\"10.0\" /><rect x=\"370.094453125\" y=\"55.0\" width=\"47.57550781250001\" height=\"40\" stroke=\"black\" fill=\"white\" stroke-width=\"1\" /><text x=\"393.88220703125\" y=\"75.0\" dominant-baseline=\"middle\" text-anchor=\"middle\" font-size=\"14px\" font-family=\"Arial\">X^p1</text><circle cx=\"393.88220703125\" cy=\"125.0\" r=\"10.0\" /><rect x=\"370.094453125\" y=\"155.0\" width=\"47.57550781250001\" height=\"40\" stroke=\"black\" fill=\"white\" stroke-width=\"1\" /><text x=\"393.88220703125\" y=\"175.0\" dominant-baseline=\"middle\" text-anchor=\"middle\" font-size=\"14px\" font-family=\"Arial\">X^p3</text><circle cx=\"463.5780859375\" cy=\"25.0\" r=\"10.0\" /><rect x=\"437.66996093750004\" y=\"105.0\" width=\"51.81625\" height=\"40\" stroke=\"black\" fill=\"white\" stroke-width=\"1\" /><text x=\"463.5780859375\" y=\"125.0\" dominant-baseline=\"middle\" text-anchor=\"middle\" font-size=\"14px\" font-family=\"Arial\">@^p4</text><circle cx=\"533.22365234375\" cy=\"25.0\" r=\"10.0\" /><rect x=\"509.4862109375\" y=\"105.0\" width=\"47.4748828125\" height=\"40\" stroke=\"black\" fill=\"white\" stroke-width=\"1\" /><text x=\"533.22365234375\" y=\"125.0\" dominant-baseline=\"middle\" text-anchor=\"middle\" font-size=\"14px\" font-family=\"Arial\">X^p5</text></svg>",
            "text/plain": [
              "<cirq.contrib.svg.svg.SVGCircuit at 0x7f7f9ef422e8>"
            ]
          },
          "metadata": {
            "tags": []
          },
          "execution_count": 14
        }
      ]
    },
    {
      "cell_type": "code",
      "metadata": {
        "colab": {
          "base_uri": "https://localhost:8080/",
          "height": 533
        },
        "id": "h36NDoQUO8mG",
        "outputId": "8bd2e3eb-833d-4882-e614-28d30dc439aa"
      },
      "source": [
        "\r\n",
        "import pydot\r\n",
        "import graphviz\r\n",
        "from tensorflow.keras.utils import plot_model\r\n",
        "\r\n",
        "plot_model(qcnn_model, to_file='model_shapes.png', show_shapes=True)"
      ],
      "execution_count": null,
      "outputs": [
        {
          "output_type": "execute_result",
          "data": {
            "image/png": "[encoded data removed]",
            "text/plain": [
              "<IPython.core.display.Image object>"
            ]
          },
          "metadata": {
            "tags": []
          },
          "execution_count": 15
        }
      ]
    },
    {
      "cell_type": "code",
      "metadata": {
        "colab": {
          "background_save": true,
          "base_uri": "https://localhost:8080/"
        },
        "id": "vc6x6Z01O-eI",
        "outputId": "ae4b9c3a-ae17-43b5-badc-f23f299e48fb"
      },
      "source": [
        "qcnn_model.compile(optimizer=tf.keras.optimizers.Adam(),\r\n",
        "              loss='sparse_categorical_crossentropy',\r\n",
        "              metrics=['accuracy'])\r\n",
        "\r\n",
        "qcnn_history = qcnn_model.fit(x_train, y_train, steps_per_epoch=10,\r\n",
        "                        validation_data=(x_test, y_test), \r\n",
        "                        epochs=10, batch_size=32)"
      ],
      "execution_count": null,
      "outputs": [
        {
          "output_type": "stream",
          "text": [
            "Epoch 1/10\n",
            "10/10 [==============================] - 422s 42s/step - loss: 2.2946 - accuracy: 0.1813 - val_loss: 2.1259 - val_accuracy: 0.3233\n",
            "Epoch 2/10\n",
            "10/10 [==============================] - 422s 42s/step - loss: 2.0287 - accuracy: 0.4000 - val_loss: 1.8949 - val_accuracy: 0.4780\n",
            "Epoch 3/10\n",
            "10/10 [==============================] - 422s 42s/step - loss: 1.8061 - accuracy: 0.5312 - val_loss: 1.6667 - val_accuracy: 0.5507\n",
            "Epoch 4/10\n",
            "10/10 [==============================] - 424s 42s/step - loss: 1.6325 - accuracy: 0.5750 - val_loss: 1.4555 - val_accuracy: 0.6332\n",
            "Epoch 5/10\n",
            "10/10 [==============================] - 423s 42s/step - loss: 1.3781 - accuracy: 0.6562 - val_loss: 1.2747 - val_accuracy: 0.6672\n",
            "Epoch 6/10\n",
            "10/10 [==============================] - 419s 42s/step - loss: 1.3122 - accuracy: 0.6531 - val_loss: 1.1102 - val_accuracy: 0.7137\n",
            "Epoch 7/10\n",
            "10/10 [==============================] - 420s 42s/step - loss: 1.0278 - accuracy: 0.7469 - val_loss: 0.9972 - val_accuracy: 0.7405\n",
            "Epoch 8/10\n",
            "10/10 [==============================] - 422s 42s/step - loss: 0.9534 - accuracy: 0.7656 - val_loss: 0.8942 - val_accuracy: 0.7715\n",
            "Epoch 9/10\n",
            "10/10 [==============================] - 426s 43s/step - loss: 0.9231 - accuracy: 0.7531 - val_loss: 0.8334 - val_accuracy: 0.7803\n",
            "Epoch 10/10\n",
            "10/10 [==============================] - 422s 42s/step - loss: 0.8201 - accuracy: 0.7688 - val_loss: 0.7786 - val_accuracy: 0.7973\n"
          ],
          "name": "stdout"
        }
      ]
    },
    {
      "cell_type": "code",
      "metadata": {
        "id": "JdBoWXlhPD5k"
      },
      "source": [
        "\r\n",
        "test_loss, test_acc = qcnn_model.evaluate(x_test, y_test, verbose=2)"
      ],
      "execution_count": null,
      "outputs": []
    },
    {
      "cell_type": "code",
      "metadata": {
        "id": "22hrmsUBPH1y"
      },
      "source": [
        "for i in range(8):\r\n",
        "    fig = plt.figure()\r\n",
        "    plt.axis('off')\r\n",
        "    plt.imshow(qcnn_model.get_layer('qconv1')(x_train[0:1,:,:,:])[0,:,:,i], cmap='gray_r')\r\n",
        "    fig.savefig('qcnn_%d'%i, dpi=300, bbox_inches='tight')"
      ],
      "execution_count": null,
      "outputs": []
    },
    {
      "cell_type": "code",
      "metadata": {
        "id": "zLZpkT4yPKja"
      },
      "source": [
        "\r\n",
        "def plot_loss_curves(fc_loss, cnn_loss, qcnn_loss):\r\n",
        "    fig = plt.figure()\r\n",
        "    plt.plot(np.arange(len(fc_loss)) + 1, fc_loss, \"go-\", label=\"fully-connected\")\r\n",
        "    plt.plot(np.arange(len(cnn_loss)) + 1, cnn_loss, \"rs-\", label=\"CNN\")\r\n",
        "    plt.plot(np.arange(len(qcnn_loss)) + 1, qcnn_loss, \"b^-\", label=\"QCNN\")\r\n",
        "    plt.gca().xaxis.set_major_locator(mpl.ticker.MaxNLocator(integer=True))\r\n",
        "    plt.axis([1, 50, 0, 1])\r\n",
        "    plt.legend(fontsize=14)\r\n",
        "    plt.xlabel(\"Epochs\")\r\n",
        "    plt.ylabel(\"Test set loss\")\r\n",
        "    plt.grid(True)\r\n",
        "    fig.savefig('loss.png', dpi=300)\r\n",
        "    \r\n",
        "def plot_loss_curves_small(fc_loss, cnn_loss, qcnn_loss):\r\n",
        "    fig = plt.figure()\r\n",
        "    plt.plot(np.arange(len(fc_loss))[::2] + 1, fc_loss[::2], \"go-\", label=\"fully-connected\")\r\n",
        "    plt.plot(np.arange(len(cnn_loss))[::2] + 1, cnn_loss[::2], \"rs-\", label=\"CNN\")\r\n",
        "    plt.plot(np.arange(len(qcnn_loss))[::2] + 1, qcnn_loss[::2], \"b^-\", label=\"QCNN\")\r\n",
        "    plt.gca().xaxis.set_major_locator(mpl.ticker.MaxNLocator(integer=True))\r\n",
        "    plt.axis([1, 50, 0, 1])\r\n",
        "    plt.legend(fontsize=14)\r\n",
        "    plt.xlabel(\"Epochs\")\r\n",
        "    plt.ylabel(\"Test set loss\")\r\n",
        "    plt.grid(True)\r\n",
        "    fig.savefig('loss_small.png', dpi=300)"
      ],
      "execution_count": null,
      "outputs": []
    },
    {
      "cell_type": "code",
      "metadata": {
        "id": "oJTEDQabPPvH",
        "colab": {
          "base_uri": "https://localhost:8080/",
          "height": 283
        },
        "outputId": "3d9ee3d8-5d17-431e-e02e-47851fe0c2c3"
      },
      "source": [
        "\r\n",
        "plot_loss_curves(fc_history.history['val_loss'], cnn_history.history['val_loss'], qcnn_history.history['val_loss'])"
      ],
      "execution_count": null,
      "outputs": [
        {
          "output_type": "display_data",
          "data": {
            "image/png": "[encoded data removed]",
            "text/plain": [
              "<Figure size 432x288 with 1 Axes>"
            ]
          },
          "metadata": {
            "tags": [],
            "needs_background": "light"
          }
        }
      ]
    },
    {
      "cell_type": "code",
      "metadata": {
        "id": "AHIYz8qOPST-",
        "colab": {
          "base_uri": "https://localhost:8080/",
          "height": 283
        },
        "outputId": "a34944fa-60ee-4c6f-c353-6d19e8439126"
      },
      "source": [
        "\r\n",
        "plot_loss_curves_small(fc_history.history['val_loss'], cnn_history.history['val_loss'], qcnn_history.history['val_loss'])"
      ],
      "execution_count": null,
      "outputs": [
        {
          "output_type": "display_data",
          "data": {
            "image/png": "[encoded data removed]",
            "text/plain": [
              "<Figure size 432x288 with 1 Axes>"
            ]
          },
          "metadata": {
            "tags": [],
            "needs_background": "light"
          }
        }
      ]
    },
    {
      "cell_type": "code",
      "metadata": {
        "id": "Z6D28hPxPW-b"
      },
      "source": [
        "def plot_acc_curves(fc_acc, cnn_acc, qcnn_acc):\r\n",
        "    fig = plt.figure()\r\n",
        "    plt.plot(np.arange(len(fc_acc)) + 1, fc_acc, \"go-\", label=\"fully-connected\")\r\n",
        "    plt.plot(np.arange(len(cnn_acc)) + 1, cnn_acc, \"rs-\", label=\"CNN\")\r\n",
        "    plt.plot(np.arange(len(qcnn_acc)) + 1, qcnn_acc, \"b^-\", label=\"QCNN\")\r\n",
        "    plt.gca().xaxis.set_major_locator(mpl.ticker.MaxNLocator(integer=True))\r\n",
        "    plt.grid()\r\n",
        "    plt.axis([1, 50, 0.8, 1])\r\n",
        "    plt.legend(fontsize=14)\r\n",
        "    plt.xlabel(\"Epochs\")\r\n",
        "    plt.ylabel(\"Test set accuracy\")\r\n",
        "    fig.savefig('accuracy.png', dpi=300)\r\n",
        "    \r\n",
        "def plot_acc_curves_small(fc_acc, cnn_acc, qcnn_acc):\r\n",
        "    fig = plt.figure()\r\n",
        "    plt.plot(np.arange(len(fc_acc))[::2] + 1, fc_acc[::2], \"go-\", label=\"fully-connected\")\r\n",
        "    plt.plot(np.arange(len(cnn_acc))[::2] + 1, cnn_acc[::2], \"rs-\", label=\"CNN\")\r\n",
        "    plt.plot(np.arange(len(qcnn_acc))[::2] + 1, qcnn_acc[::2], \"b^-\", label=\"QCNN\")\r\n",
        "    plt.gca().xaxis.set_major_locator(mpl.ticker.MaxNLocator(integer=True))\r\n",
        "    plt.grid()\r\n",
        "    plt.axis([1, 50, 0.8, 1])\r\n",
        "    plt.legend(fontsize=14)\r\n",
        "    plt.xlabel(\"Epochs\")\r\n",
        "    plt.ylabel(\"Test set accuracy\")\r\n",
        "    fig.savefig('accuracy_small.png', dpi=300)"
      ],
      "execution_count": null,
      "outputs": []
    },
    {
      "cell_type": "code",
      "metadata": {
        "id": "jPOdFw3cPZin",
        "colab": {
          "base_uri": "https://localhost:8080/",
          "height": 283
        },
        "outputId": "d825b85f-2835-4d29-8362-af6568a7ec5b"
      },
      "source": [
        "plot_acc_curves(fc_history.history['val_accuracy'], cnn_history.history['val_accuracy'], qcnn_history.history['val_accuracy'])"
      ],
      "execution_count": null,
      "outputs": [
        {
          "output_type": "display_data",
          "data": {
            "image/png": "[encoded data removed]",
            "text/plain": [
              "<Figure size 432x288 with 1 Axes>"
            ]
          },
          "metadata": {
            "tags": [],
            "needs_background": "light"
          }
        }
      ]
    },
    {
      "cell_type": "code",
      "metadata": {
        "id": "XGGg40JOPcBP",
        "colab": {
          "base_uri": "https://localhost:8080/",
          "height": 283
        },
        "outputId": "fe529afd-27fa-4869-f969-2b56e1e2079c"
      },
      "source": [
        "\r\n",
        "plot_acc_curves_small(fc_history.history['val_accuracy'], cnn_history.history['val_accuracy'], qcnn_history.history['val_accuracy'])"
      ],
      "execution_count": null,
      "outputs": [
        {
          "output_type": "display_data",
          "data": {
            "image/png": "[encoded data removed]",
            "text/plain": [
              "<Figure size 432x288 with 1 Axes>"
            ]
          },
          "metadata": {
            "tags": [],
            "needs_background": "light"
          }
        }
      ]
    },
    {
      "cell_type": "code",
      "metadata": {
        "id": "iWANfMjxPd-x"
      },
      "source": [
        ""
      ],
      "execution_count": null,
      "outputs": []
    }
  ]
}